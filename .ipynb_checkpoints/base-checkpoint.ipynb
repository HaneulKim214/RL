{
 "cells": [
  {
   "cell_type": "code",
   "execution_count": 1,
   "id": "referenced-representation",
   "metadata": {},
   "outputs": [],
   "source": [
    "from datetime import datetime, timedelta\n",
    "import itertools \n",
    "import numpy as np\n",
    "import os\n",
    "import pandas as pd\n",
    "import plotly.graph_objects as go\n",
    "import sys\n",
    "\n",
    "from bandits.multi_armed_bandits import *\n",
    "from simulation_env.advertisement import Advertisement"
   ]
  },
  {
   "cell_type": "markdown",
   "id": "unnecessary-circuit",
   "metadata": {},
   "source": [
    "Things to try:\n",
    "1. True Ctr 이 1일,3일,...etc 마다 변할때의 차이.\n",
    "2. \n",
    "\n",
    "Select ranking using `pred_ctr` but display_frame() works with `ctr`"
   ]
  },
  {
   "cell_type": "code",
   "execution_count": 2,
   "id": "ignored-paper",
   "metadata": {},
   "outputs": [],
   "source": [
    "alpha = 1\n",
    "beta  = 1\n",
    "batch_size_i = 1\n",
    "ad_A = Advertisement(0.115, \"Ad_A\", alpha, beta)\n",
    "ad_B = Advertisement(0.118, \"Ad_B\", alpha, beta)\n",
    "ad_C = Advertisement(0.103, \"Ad_C\", alpha, beta)\n",
    "ad_D = Advertisement(0.114, \"Ad_D\", alpha, beta)\n",
    "ad_E = Advertisement(0.1004, \"Ad_E\", alpha, beta)\n",
    "ad_F = Advertisement(0.088, \"Ad_F\", alpha, beta)\n",
    "ad_G = Advertisement(0.09, \"Ad_G\", alpha, beta)\n",
    "ads = [ad_A, ad_B, ad_C, ad_D, ad_E, ad_F, ad_G]"
   ]
  },
  {
   "cell_type": "code",
   "execution_count": 3,
   "id": "lovely-correlation",
   "metadata": {},
   "outputs": [],
   "source": [
    "eps = 0.1\n",
    "egreedy_alg = eGreedy(1, ads, eps)"
   ]
  },
  {
   "cell_type": "code",
   "execution_count": 9,
   "id": "creative-jackson",
   "metadata": {},
   "outputs": [],
   "source": [
    "n_exp = 1000\n",
    "\n",
    "# eGreedy\n",
    "egreedy_alg.run_test(n_exp)\n",
    "cum_tot_rewards = np.cumsum(egreedy_alg.rewards)\n",
    "avg_reward = cum_tot_rewards / (np.arange(1, n_exp+1))"
   ]
  },
  {
   "cell_type": "code",
   "execution_count": null,
   "id": "surrounded-progressive",
   "metadata": {},
   "outputs": [],
   "source": []
  }
 ],
 "metadata": {
  "kernelspec": {
   "display_name": "Python 3",
   "language": "python",
   "name": "python3"
  },
  "language_info": {
   "codemirror_mode": {
    "name": "ipython",
    "version": 3
   },
   "file_extension": ".py",
   "mimetype": "text/x-python",
   "name": "python",
   "nbconvert_exporter": "python",
   "pygments_lexer": "ipython3",
   "version": "3.8.10"
  },
  "toc": {
   "base_numbering": 1,
   "nav_menu": {},
   "number_sections": true,
   "sideBar": true,
   "skip_h1_title": false,
   "title_cell": "Table of Contents",
   "title_sidebar": "Contents",
   "toc_cell": false,
   "toc_position": {},
   "toc_section_display": true,
   "toc_window_display": false
  }
 },
 "nbformat": 4,
 "nbformat_minor": 5
}
