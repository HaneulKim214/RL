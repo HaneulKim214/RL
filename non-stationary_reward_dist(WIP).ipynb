{
 "cells": [
  {
   "cell_type": "code",
   "execution_count": null,
   "metadata": {},
   "outputs": [],
   "source": [
    "from datetime import datetime, timedelta\n",
    "import itertools \n",
    "import numpy as np\n",
    "import os\n",
    "import pandas as pd\n",
    "import plotly.graph_objects as go\n",
    "import sys\n",
    "\n",
    "# In Github\n",
    "from bandits.multi_armed_bandits import eGreedy, UpperConfidenceBounds, ThompsonSampling\n",
    "from simulation_env.advertisement import Advertisement\n",
    "from simulation_env.util import rand_update_ads"
   ]
  },
  {
   "cell_type": "markdown",
   "metadata": {},
   "source": [
    "## Non-stationary reward distribution\n",
    "\n",
    "CTR changes randomly every random(n) days\n",
    "\n",
    "<b>Things to try</b>:\n",
    "\n",
    "- when CTR rank changes (constant change):\n",
    "  - 하나가 다른 하나의 CTR 을 따라잡도록 설정해놓고 톰슨이 그것을 반영하여 노출수를 조정하는지 확인\n",
    "  - 달라지는 slope에 따른 변화. Ex: 따라잡히지만 by little vs. by a lot\n",
    "\n",
    "<br>\n",
    "\n",
    "- when new advertisement added:\n",
    "\n",
    "<br>\n",
    "\n",
    "- when CTR rank changes (one-time change)\n",
    "\n",
    "----\n",
    "\n",
    "<b>Performance Metrics</b>:\n",
    "- Average of multiple simulations"
   ]
  },
  {
   "cell_type": "markdown",
   "metadata": {},
   "source": [
    "###  CTR rank changes (one-time) \n",
    "\n",
    "1. find optimal \"n_exp\", \"day_i_reset\". See how impressions, CTR changes as hyperparameters change.\n",
    "2. Add time penality. -> more weight on more recent actions.\n",
    "<ul> \n",
    "    <li> ${reward \\over t}$, t = # of days after alpha reset</li>\n",
    "</ul>\n"
   ]
  },
  {
   "cell_type": "code",
   "execution_count": null,
   "metadata": {},
   "outputs": [],
   "source": [
    "batch_size_i = 1\n",
    "ad_A = Advertisement(0.115, \"Ad_A\")\n",
    "ad_C = Advertisement(0.103, \"Ad_C\")\n",
    "ads = [ad_A, ad_C]\n",
    "\n",
    "n_exp = 100\n",
    "ts_alg = ThompsonSampling(1, ads)\n",
    "\n",
    "ad_A_daily_imps = []\n",
    "ad_C_daily_imps = []\n",
    "\n",
    "for day_i in range(100):\n",
    "    ts_alg.run_test(n_exp)\n",
    "    ad_A_daily_imps.append(ad_A.imps)\n",
    "    ad_A.reset_imps()\n",
    "    ad_C_daily_imps.append(ad_C.imps)\n",
    "    ad_C.reset_imps()\n",
    "    \n",
    "    if (day_i % 50 == 0) & (day_i != 0):\n",
    "        ts_alg.reset_params()\n",
    "        print(f\"updated CTR at day = {day_i}\")\n",
    "        ad_A.ctr = 0.103\n",
    "        ad_C.ctr = 0.115"
   ]
  },
  {
   "cell_type": "code",
   "execution_count": null,
   "metadata": {},
   "outputs": [],
   "source": [
    "df = pd.DataFrame({\"ad_A\":ad_A_daily_imps,\n",
    "                   \"ad_C\":ad_C_daily_imps})"
   ]
  },
  {
   "cell_type": "code",
   "execution_count": null,
   "metadata": {},
   "outputs": [],
   "source": [
    "fig = go.Figure()\n",
    "for col_nm in [\"ad_A\", \"ad_C\"]:\n",
    "    fig.add_trace(\n",
    "        go.Scatter(\n",
    "            name = col_nm,\n",
    "            x = df.index,\n",
    "            y = df[col_nm]\n",
    "        )\n",
    "    )\n",
    "\n",
    "fig.update_layout(title=\"<b>daily impressions W/ alpha reset</b>\",\n",
    "                  xaxis_title=\"# of days\",\n",
    "                  yaxis_title=\"# of impressions\")\n",
    "\n",
    "fig.show()"
   ]
  },
  {
   "cell_type": "code",
   "execution_count": null,
   "metadata": {},
   "outputs": [],
   "source": [
    "fig = go.Figure()\n",
    "for col_nm in [\"ad_A\", \"ad_C\"]:\n",
    "    fig.add_trace(\n",
    "        go.Scatter(\n",
    "            name = col_nm,\n",
    "            x = df.index,\n",
    "            y = df[col_nm]\n",
    "        )\n",
    "    )\n",
    "\n",
    "fig.update_layout(title=\"<b>daily impressions</b>\",\n",
    "                  xaxis_title=\"# of days\",\n",
    "                  yaxis_title=\"# of impressions\")\n",
    "\n",
    "fig.show()"
   ]
  },
  {
   "cell_type": "code",
   "execution_count": null,
   "metadata": {},
   "outputs": [],
   "source": [
    "ts_alg.calc_avg_reward()\n",
    "\n",
    "fig = go.Figure()\n",
    "fig.add_trace(\n",
    "    go.Scatter(\n",
    "        name = ts_alg.name,\n",
    "        x = np.arange(1, len(ts_alg.rewards)),\n",
    "        y = ts_alg.avg_reward\n",
    "    )\n",
    ")\n",
    "\n",
    "fig.update_layout(title=\"<b>Explore Exploitation strategies comparison plot</b>\",\n",
    "                  xaxis_title=\"# of Exposure\",\n",
    "                  yaxis_title=\"Average reward\")\n",
    "\n",
    "fig.show()"
   ]
  }
 ],
 "metadata": {
  "kernelspec": {
   "display_name": "Python 3",
   "language": "python",
   "name": "python3"
  },
  "language_info": {
   "codemirror_mode": {
    "name": "ipython",
    "version": 3
   },
   "file_extension": ".py",
   "mimetype": "text/x-python",
   "name": "python",
   "nbconvert_exporter": "python",
   "pygments_lexer": "ipython3",
   "version": "3.7.3"
  },
  "toc": {
   "base_numbering": 1,
   "nav_menu": {},
   "number_sections": true,
   "sideBar": true,
   "skip_h1_title": false,
   "title_cell": "Table of Contents",
   "title_sidebar": "Contents",
   "toc_cell": false,
   "toc_position": {},
   "toc_section_display": true,
   "toc_window_display": true
  }
 },
 "nbformat": 4,
 "nbformat_minor": 4
}
